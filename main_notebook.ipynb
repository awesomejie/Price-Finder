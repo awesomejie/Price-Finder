{
 "cells": [
  {
   "cell_type": "code",
   "execution_count": 43,
   "metadata": {
    "collapsed": false
   },
   "outputs": [
    {
     "name": "stderr",
     "output_type": "stream",
     "text": [
      "/home/jay/anaconda3/envs/python2/lib/python2.7/site-packages/fuzzywuzzy/fuzz.py:33: UserWarning: Using slow pure-python SequenceMatcher. Install python-Levenshtein to remove this warning\n",
      "  warnings.warn('Using slow pure-python SequenceMatcher. Install python-Levenshtein to remove this warning')\n"
     ]
    }
   ],
   "source": [
    "import pandas as pd\n",
    "from fuzzywuzzy import fuzz\n",
    "import json\n",
    "from pprint import pprint\n",
    "import string\n",
    "import sys"
   ]
  },
  {
   "cell_type": "code",
   "execution_count": 24,
   "metadata": {
    "collapsed": false
   },
   "outputs": [],
   "source": [
    "products = []\n",
    "listings = []\n",
    "with open('challenge_data_20110429/products_sample.txt') as products_file:\n",
    "    for line in products_file:\n",
    "        products.append(json.loads(line))\n",
    "with open('challenge_data_20110429/listings_sample.txt') as listings_file:\n",
    "    for line in listings_file:\n",
    "        listings.append(json.loads(line))\n",
    "#pprint(products)\n",
    "df_products = pd.DataFrame(products)\n",
    "df_listings = pd.DataFrame(listings)\n",
    "#print(df_products)\n",
    "#print(df_listings)"
   ]
  },
  {
   "cell_type": "code",
   "execution_count": 25,
   "metadata": {
    "collapsed": false
   },
   "outputs": [],
   "source": [
    "exclude = set(string.punctuation)\n",
    "include = set('.-')\n",
    "exclude -= include\n",
    "def handle_strings(x):\n",
    "    \"\"\"\n",
    "    Helper function to make string all lowercase and remove punctuation.\n",
    "    \n",
    "    x: any string\n",
    "    \"\"\"\n",
    "    x = x.lower()\n",
    "    x = x.replace('/', ' ')  # replace '/' with space\n",
    "    #x = x.replace('-', ' ')  # replace '-' with space\n",
    "    x = ''.join(ch for ch in x if ch not in exclude)    \n",
    "    return x"
   ]
  },
  {
   "cell_type": "code",
   "execution_count": 31,
   "metadata": {
    "collapsed": false
   },
   "outputs": [],
   "source": [
    "pd.options.display.max_colwidth=150\n",
    "df_listings.title = df_listings.title.apply(handle_strings)"
   ]
  },
  {
   "cell_type": "code",
   "execution_count": 33,
   "metadata": {
    "collapsed": false,
    "scrolled": true
   },
   "outputs": [
    {
     "data": {
      "text/html": [
       "<div>\n",
       "<table border=\"1\" class=\"dataframe\">\n",
       "  <thead>\n",
       "    <tr style=\"text-align: right;\">\n",
       "      <th></th>\n",
       "      <th>currency</th>\n",
       "      <th>manufacturer</th>\n",
       "      <th>price</th>\n",
       "      <th>title</th>\n",
       "    </tr>\n",
       "  </thead>\n",
       "  <tbody>\n",
       "    <tr>\n",
       "      <th>0</th>\n",
       "      <td>CAD</td>\n",
       "      <td>Neewer Electronics Accessories</td>\n",
       "      <td>35.99</td>\n",
       "      <td>led flash macro ring light 48 x led with 6 adapter rings for for canon sony nikon sigma lenses</td>\n",
       "    </tr>\n",
       "    <tr>\n",
       "      <th>1</th>\n",
       "      <td>CAD</td>\n",
       "      <td>Canon Canada</td>\n",
       "      <td>199.96</td>\n",
       "      <td>canon powershot sx130is 12.1 mp digital camera with 12x wide angle optical image stabilized zoom with 3.0-inch lcd</td>\n",
       "    </tr>\n",
       "    <tr>\n",
       "      <th>2</th>\n",
       "      <td>CAD</td>\n",
       "      <td>Canon Canada</td>\n",
       "      <td>209.00</td>\n",
       "      <td>canon powershot sx130is 12.1 mp digital camera with 12x wide angle optical image stabilized zoom with 3.0-inch lcd</td>\n",
       "    </tr>\n",
       "    <tr>\n",
       "      <th>3</th>\n",
       "      <td>CAD</td>\n",
       "      <td>Canon Canada</td>\n",
       "      <td>306.24</td>\n",
       "      <td>canon powershot d10 12.1 mp waterproof digital camera with 3x optical image stabilized zoom and 2.5-inch lcd blue silver</td>\n",
       "    </tr>\n",
       "    <tr>\n",
       "      <th>4</th>\n",
       "      <td>CAD</td>\n",
       "      <td>Canon Canada</td>\n",
       "      <td>420.33</td>\n",
       "      <td>canon powershot d10 12.1 mp waterproof digital camera with 3x optical image stabilized zoom and 2.5-inch lcd blue silver</td>\n",
       "    </tr>\n",
       "    <tr>\n",
       "      <th>5</th>\n",
       "      <td>CAD</td>\n",
       "      <td>Samsung</td>\n",
       "      <td>13.99</td>\n",
       "      <td>genuine samsung eb575152vu i9000 galaxys battery</td>\n",
       "    </tr>\n",
       "    <tr>\n",
       "      <th>6</th>\n",
       "      <td>CAD</td>\n",
       "      <td>Canon Canada</td>\n",
       "      <td>129.99</td>\n",
       "      <td>canon powershot a1200 black</td>\n",
       "    </tr>\n",
       "    <tr>\n",
       "      <th>7</th>\n",
       "      <td>CAD</td>\n",
       "      <td>Canon Canada</td>\n",
       "      <td>88.00</td>\n",
       "      <td>canon powershot a495 10.1 mp digital camera with 3.3x optical zoom and 2.5-inch lcd blue</td>\n",
       "    </tr>\n",
       "    <tr>\n",
       "      <th>8</th>\n",
       "      <td>CAD</td>\n",
       "      <td>Canon Canada</td>\n",
       "      <td>129.92</td>\n",
       "      <td>canon powershot a495 10.1 mp digital camera with 3.3x optical zoom and 2.5-inch lcd blue</td>\n",
       "    </tr>\n",
       "    <tr>\n",
       "      <th>9</th>\n",
       "      <td>CAD</td>\n",
       "      <td>Canon Canada</td>\n",
       "      <td>259.99</td>\n",
       "      <td>canon powershot elph 300 hs black</td>\n",
       "    </tr>\n",
       "  </tbody>\n",
       "</table>\n",
       "</div>"
      ],
      "text/plain": [
       "  currency                    manufacturer   price  \\\n",
       "0      CAD  Neewer Electronics Accessories   35.99   \n",
       "1      CAD                    Canon Canada  199.96   \n",
       "2      CAD                    Canon Canada  209.00   \n",
       "3      CAD                    Canon Canada  306.24   \n",
       "4      CAD                    Canon Canada  420.33   \n",
       "5      CAD                         Samsung   13.99   \n",
       "6      CAD                    Canon Canada  129.99   \n",
       "7      CAD                    Canon Canada   88.00   \n",
       "8      CAD                    Canon Canada  129.92   \n",
       "9      CAD                    Canon Canada  259.99   \n",
       "\n",
       "                                                                                                                      title  \n",
       "0                            led flash macro ring light 48 x led with 6 adapter rings for for canon sony nikon sigma lenses  \n",
       "1        canon powershot sx130is 12.1 mp digital camera with 12x wide angle optical image stabilized zoom with 3.0-inch lcd  \n",
       "2        canon powershot sx130is 12.1 mp digital camera with 12x wide angle optical image stabilized zoom with 3.0-inch lcd  \n",
       "3  canon powershot d10 12.1 mp waterproof digital camera with 3x optical image stabilized zoom and 2.5-inch lcd blue silver  \n",
       "4  canon powershot d10 12.1 mp waterproof digital camera with 3x optical image stabilized zoom and 2.5-inch lcd blue silver  \n",
       "5                                                                          genuine samsung eb575152vu i9000 galaxys battery  \n",
       "6                                                                                               canon powershot a1200 black  \n",
       "7                                  canon powershot a495 10.1 mp digital camera with 3.3x optical zoom and 2.5-inch lcd blue  \n",
       "8                                  canon powershot a495 10.1 mp digital camera with 3.3x optical zoom and 2.5-inch lcd blue  \n",
       "9                                                                                         canon powershot elph 300 hs black  "
      ]
     },
     "execution_count": 33,
     "metadata": {},
     "output_type": "execute_result"
    }
   ],
   "source": [
    "df_listings"
   ]
  },
  {
   "cell_type": "markdown",
   "metadata": {},
   "source": [
    "### Create some basic features"
   ]
  },
  {
   "cell_type": "code",
   "execution_count": 41,
   "metadata": {
    "collapsed": false
   },
   "outputs": [
    {
     "data": {
      "text/html": [
       "<div>\n",
       "<table border=\"1\" class=\"dataframe\">\n",
       "  <thead>\n",
       "    <tr style=\"text-align: right;\">\n",
       "      <th></th>\n",
       "      <th>currency</th>\n",
       "      <th>manufacturer</th>\n",
       "      <th>price</th>\n",
       "      <th>title</th>\n",
       "      <th>title2</th>\n",
       "    </tr>\n",
       "  </thead>\n",
       "  <tbody>\n",
       "    <tr>\n",
       "      <th>0</th>\n",
       "      <td>CAD</td>\n",
       "      <td>Neewer Electronics Accessories</td>\n",
       "      <td>35.99</td>\n",
       "      <td>led flash macro ring light 48 x led with 6 adapter rings for for canon sony nikon sigma lenses</td>\n",
       "      <td>led flash macro ring light 48 x led with 6 adapter rings for for canon sony nikon sigma lenses</td>\n",
       "    </tr>\n",
       "    <tr>\n",
       "      <th>1</th>\n",
       "      <td>CAD</td>\n",
       "      <td>Canon Canada</td>\n",
       "      <td>199.96</td>\n",
       "      <td>canon powershot sx130is 12.1 mp digital camera with 12x wide angle optical image stabilized zoom with 3.0-inch lcd</td>\n",
       "      <td>canon powershot sx130is 12.1 mp digital camera with 12x wide angle optical image stabilized zoom with 3.0-inch lcd</td>\n",
       "    </tr>\n",
       "    <tr>\n",
       "      <th>2</th>\n",
       "      <td>CAD</td>\n",
       "      <td>Canon Canada</td>\n",
       "      <td>209.00</td>\n",
       "      <td>canon powershot sx130is 12.1 mp digital camera with 12x wide angle optical image stabilized zoom with 3.0-inch lcd</td>\n",
       "      <td>canon powershot sx130is 12.1 mp digital camera with 12x wide angle optical image stabilized zoom with 3.0-inch lcd</td>\n",
       "    </tr>\n",
       "    <tr>\n",
       "      <th>3</th>\n",
       "      <td>CAD</td>\n",
       "      <td>Canon Canada</td>\n",
       "      <td>306.24</td>\n",
       "      <td>canon powershot d10 12.1 mp waterproof digital camera with 3x optical image stabilized zoom and 2.5-inch lcd blue silver</td>\n",
       "      <td>canon powershot d10 12.1 mp waterproof digital camera with 3x optical image stabilized zoom and 2.5-inch lcd blue silver</td>\n",
       "    </tr>\n",
       "    <tr>\n",
       "      <th>4</th>\n",
       "      <td>CAD</td>\n",
       "      <td>Canon Canada</td>\n",
       "      <td>420.33</td>\n",
       "      <td>canon powershot d10 12.1 mp waterproof digital camera with 3x optical image stabilized zoom and 2.5-inch lcd blue silver</td>\n",
       "      <td>canon powershot d10 12.1 mp waterproof digital camera with 3x optical image stabilized zoom and 2.5-inch lcd blue silver</td>\n",
       "    </tr>\n",
       "    <tr>\n",
       "      <th>5</th>\n",
       "      <td>CAD</td>\n",
       "      <td>Samsung</td>\n",
       "      <td>13.99</td>\n",
       "      <td>genuine samsung eb575152vu i9000 galaxys battery</td>\n",
       "      <td>genuine samsung eb575152vu i9000 galaxys battery</td>\n",
       "    </tr>\n",
       "    <tr>\n",
       "      <th>6</th>\n",
       "      <td>CAD</td>\n",
       "      <td>Canon Canada</td>\n",
       "      <td>129.99</td>\n",
       "      <td>canon powershot a1200 black</td>\n",
       "      <td>canon powershot a1200 black</td>\n",
       "    </tr>\n",
       "    <tr>\n",
       "      <th>7</th>\n",
       "      <td>CAD</td>\n",
       "      <td>Canon Canada</td>\n",
       "      <td>88.00</td>\n",
       "      <td>canon powershot a495 10.1 mp digital camera with 3.3x optical zoom and 2.5-inch lcd blue</td>\n",
       "      <td>canon powershot a495 10.1 mp digital camera with 3.3x optical zoom and 2.5-inch lcd blue</td>\n",
       "    </tr>\n",
       "    <tr>\n",
       "      <th>8</th>\n",
       "      <td>CAD</td>\n",
       "      <td>Canon Canada</td>\n",
       "      <td>129.92</td>\n",
       "      <td>canon powershot a495 10.1 mp digital camera with 3.3x optical zoom and 2.5-inch lcd blue</td>\n",
       "      <td>canon powershot a495 10.1 mp digital camera with 3.3x optical zoom and 2.5-inch lcd blue</td>\n",
       "    </tr>\n",
       "    <tr>\n",
       "      <th>9</th>\n",
       "      <td>CAD</td>\n",
       "      <td>Canon Canada</td>\n",
       "      <td>259.99</td>\n",
       "      <td>canon powershot elph 300 hs black</td>\n",
       "      <td>canon powershot elph 300 hs black</td>\n",
       "    </tr>\n",
       "  </tbody>\n",
       "</table>\n",
       "</div>"
      ],
      "text/plain": [
       "  currency                    manufacturer   price  \\\n",
       "0      CAD  Neewer Electronics Accessories   35.99   \n",
       "1      CAD                    Canon Canada  199.96   \n",
       "2      CAD                    Canon Canada  209.00   \n",
       "3      CAD                    Canon Canada  306.24   \n",
       "4      CAD                    Canon Canada  420.33   \n",
       "5      CAD                         Samsung   13.99   \n",
       "6      CAD                    Canon Canada  129.99   \n",
       "7      CAD                    Canon Canada   88.00   \n",
       "8      CAD                    Canon Canada  129.92   \n",
       "9      CAD                    Canon Canada  259.99   \n",
       "\n",
       "                                                                                                                      title  \\\n",
       "0                            led flash macro ring light 48 x led with 6 adapter rings for for canon sony nikon sigma lenses   \n",
       "1        canon powershot sx130is 12.1 mp digital camera with 12x wide angle optical image stabilized zoom with 3.0-inch lcd   \n",
       "2        canon powershot sx130is 12.1 mp digital camera with 12x wide angle optical image stabilized zoom with 3.0-inch lcd   \n",
       "3  canon powershot d10 12.1 mp waterproof digital camera with 3x optical image stabilized zoom and 2.5-inch lcd blue silver   \n",
       "4  canon powershot d10 12.1 mp waterproof digital camera with 3x optical image stabilized zoom and 2.5-inch lcd blue silver   \n",
       "5                                                                          genuine samsung eb575152vu i9000 galaxys battery   \n",
       "6                                                                                               canon powershot a1200 black   \n",
       "7                                  canon powershot a495 10.1 mp digital camera with 3.3x optical zoom and 2.5-inch lcd blue   \n",
       "8                                  canon powershot a495 10.1 mp digital camera with 3.3x optical zoom and 2.5-inch lcd blue   \n",
       "9                                                                                         canon powershot elph 300 hs black   \n",
       "\n",
       "                                                                                                                     title2  \n",
       "0                            led flash macro ring light 48 x led with 6 adapter rings for for canon sony nikon sigma lenses  \n",
       "1        canon powershot sx130is 12.1 mp digital camera with 12x wide angle optical image stabilized zoom with 3.0-inch lcd  \n",
       "2        canon powershot sx130is 12.1 mp digital camera with 12x wide angle optical image stabilized zoom with 3.0-inch lcd  \n",
       "3  canon powershot d10 12.1 mp waterproof digital camera with 3x optical image stabilized zoom and 2.5-inch lcd blue silver  \n",
       "4  canon powershot d10 12.1 mp waterproof digital camera with 3x optical image stabilized zoom and 2.5-inch lcd blue silver  \n",
       "5                                                                          genuine samsung eb575152vu i9000 galaxys battery  \n",
       "6                                                                                               canon powershot a1200 black  \n",
       "7                                  canon powershot a495 10.1 mp digital camera with 3.3x optical zoom and 2.5-inch lcd blue  \n",
       "8                                  canon powershot a495 10.1 mp digital camera with 3.3x optical zoom and 2.5-inch lcd blue  \n",
       "9                                                                                         canon powershot elph 300 hs black  "
      ]
     },
     "execution_count": 41,
     "metadata": {},
     "output_type": "execute_result"
    }
   ],
   "source": [
    "df_listings['title2'] = df_listings.title\n",
    "df_listings"
   ]
  },
  {
   "cell_type": "code",
   "execution_count": 44,
   "metadata": {
    "collapsed": false
   },
   "outputs": [
    {
     "data": {
      "text/plain": [
       "0    100\n",
       "1    100\n",
       "2    100\n",
       "3    100\n",
       "4    100\n",
       "5    100\n",
       "6    100\n",
       "7    100\n",
       "8    100\n",
       "9    100\n",
       "dtype: int64"
      ]
     },
     "execution_count": 44,
     "metadata": {},
     "output_type": "execute_result"
    }
   ],
   "source": [
    "df_listings.apply(lambda x: fuzz.ratio(x['title'], x['title2']), axis = 1)"
   ]
  },
  {
   "cell_type": "code",
   "execution_count": null,
   "metadata": {
    "collapsed": true
   },
   "outputs": [],
   "source": [
    "df_listings['title_ratio'] = df_listings.apply"
   ]
  }
 ],
 "metadata": {
  "kernelspec": {
   "display_name": "Python 2",
   "language": "python",
   "name": "python2"
  },
  "language_info": {
   "codemirror_mode": {
    "name": "ipython",
    "version": 2
   },
   "file_extension": ".py",
   "mimetype": "text/x-python",
   "name": "python",
   "nbconvert_exporter": "python",
   "pygments_lexer": "ipython2",
   "version": "2.7.11"
  }
 },
 "nbformat": 4,
 "nbformat_minor": 0
}
