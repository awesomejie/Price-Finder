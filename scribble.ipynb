{
 "cells": [
  {
   "cell_type": "code",
   "execution_count": 69,
   "metadata": {
    "collapsed": true
   },
   "outputs": [],
   "source": [
    "import re"
   ]
  },
  {
   "cell_type": "code",
   "execution_count": 70,
   "metadata": {
    "collapsed": false
   },
   "outputs": [],
   "source": [
    "def match_model(title, model):\n",
    "    \"\"\"\n",
    "    Determine if model is reflected in title\n",
    "\n",
    "    >>> match_model(\"sony cyber shot dsc w310\", \"dsc w310\")\n",
    "    MODEL-MATCH:EXACT\n",
    "    >>> match_model(\"sony cyber shot dsc w310x\", \"dsc w310\")\n",
    "    NOTMATCH\n",
    "\n",
    "    >>> match_model(\"sony cyber shot sx130is\", \"sx130 is\")\n",
    "    MODEL-MATCH:MODEL_NOSPACE\n",
    "    >>> match_model(\"sony cyber shot usx130is\", \"sx130 is\")\n",
    "    NOTMATCH\n",
    "\n",
    "    >>> match_model(\"sony cyber shot sx130 is\", \"sx130is\")\n",
    "    MODEL-MATCH:TITLE_NOSPACE\n",
    "    >>> match_model(\"sony cyber shot usx130 is\", \"sx130is\")\n",
    "    NOTMATCH\n",
    "    \"\"\"\n",
    "\n",
    "    if model in title:\n",
    "        starts = [m.start() for m in re.finditer(model, title)]\n",
    "        for si in starts:\n",
    "            ei = si + len(model) - 1\n",
    "            if si >= 1 and title[si-1] not in [' ']:\n",
    "                return \"NOTMATCH\"\n",
    "            if ei+1 <= len(title)-1 and title[ei+1] not in [' ']:\n",
    "                return \"NOTMATCH\"\n",
    "        return \"MODEL-MATCH:EXACT\"\n",
    "\n",
    "    model_nospace = model.replace(\" \", \"\")\n",
    "    if model_nospace in title:\n",
    "        starts = [m.start() for m in re.finditer(model_nospace, title)]\n",
    "        for si in starts:\n",
    "            ei = si + len(model_nospace) - 1\n",
    "            if si >= 1 and title[si-1] not in [' ']:\n",
    "                return \"NOTMATCH\"\n",
    "            if ei+1 <= len(title)-1 and title[ei+1] not in [' ']:\n",
    "                return \"NOTMATCH\"\n",
    "        return \"MODEL-MATCH:MODEL_NOSPACE\"\n",
    "\n",
    "    # strip all space from title too\n",
    "    title_nospace = title.replace(\" \", \"\")\n",
    "    if model_nospace in title_nospace:\n",
    "        # for title_nospace, find mapping to index in original string\n",
    "        mapping = []\n",
    "        tidx = 0\n",
    "        for i, v in enumerate(title_nospace):\n",
    "            while v != title[tidx]:\n",
    "                tidx += 1\n",
    "            mapping.append(tidx)\n",
    "            tidx += 1\n",
    "        assert(tidx == len(title))\n",
    "\n",
    "        starts = [m.start() for m in re.finditer(model_nospace, title_nospace)]\n",
    "        ends = [x+len(model_nospace)-1 for x in starts]\n",
    "        # map starts/ends back to indexes in original title\n",
    "        starts_orig = [mapping[i] for i in starts]\n",
    "        ends_orig = [mapping[i] for i in ends]\n",
    "\n",
    "        for si in starts_orig:\n",
    "            if si >= 1 and title[si-1] not in [' ']:\n",
    "                return \"NOTMATCH\"\n",
    "        for ei in ends_orig:\n",
    "            if ei+1 <= len(title)-1 and title[ei+1] not in [' ']:\n",
    "                return \"NOTMATCH\"\n",
    "        return \"MODEL-MATCH:TITLE_NOSPACE\"\n",
    "\n",
    "    return \"NOTMATCH\""
   ]
  },
  {
   "cell_type": "code",
   "execution_count": 72,
   "metadata": {
    "collapsed": false,
    "scrolled": true
   },
   "outputs": [
    {
     "name": "stdout",
     "output_type": "stream",
     "text": [
      "MODEL-MATCH:EXACT\n",
      "NOTMATCH\n",
      "MODEL-MATCH:MODEL_NOSPACE\n",
      "NOTMATCH\n",
      "MODEL-MATCH:TITLE_NOSPACE\n",
      "NOTMATCH\n"
     ]
    }
   ],
   "source": [
    "print(match_model(\"sony cyber shot dsc w310\", \"dsc w310\"))\n",
    "print(match_model(\"sony cyber shot dsc w310x\", \"dsc w310\"))\n",
    "print(match_model(\"sony cyber shot sx130is\", \"sx130 is\"))\n",
    "print(match_model(\"sony cyber shot usx130is\", \"sx130 is\"))\n",
    "print(match_model(\"sony cyber shot sx130 is\", \"sx130is\"))\n",
    "print(match_model(\"sony cyber shot usx130 is\", \"sx130is\"))"
   ]
  },
  {
   "cell_type": "code",
   "execution_count": 6,
   "metadata": {
    "collapsed": false,
    "scrolled": true
   },
   "outputs": [
    {
     "name": "stdout",
     "output_type": "stream",
     "text": [
      "thwas was string example....wow!!! thwas was really string\n",
      "thwas was string example....wow!!! thwas is really string\n"
     ]
    }
   ],
   "source": [
    "str = \"this is string example....wow!!! this is really string\";\n",
    "print str.replace(\"is\", \"was\")\n",
    "print str.replace(\"is\", \"was\", 3)"
   ]
  },
  {
   "cell_type": "code",
   "execution_count": 22,
   "metadata": {
    "collapsed": false
   },
   "outputs": [],
   "source": [
    "import re\n",
    "def purge_model_from_title(model, title, match_result):\n",
    "    if match_result == \"MODEL-MATCH:EXACT\":\n",
    "        return title.replace(model, \"\")\n",
    "    if match_result == \"MODEL-MATCH:MODEL_NOSPACE\":\n",
    "        return title.replace(model.replace(\" \",\"\"), \"\")\n",
    "    if match_result == \"MODEL-MATCH:TITLE_NOSPACE\":\n",
    "        model_nospace = model.replace(\" \", \"\")\n",
    "        title_nospace = title.replace(\" \", \"\")\n",
    "        # for title_nospace, find mapping to index in original string\n",
    "        mapping = []\n",
    "        tidx = 0\n",
    "        for i, v in enumerate(title_nospace):\n",
    "            while v != title[tidx]:\n",
    "                tidx += 1\n",
    "            mapping.append(tidx)\n",
    "            tidx += 1\n",
    "        assert(tidx == len(title))\n",
    "        starts = [m.start() for m in re.finditer(model_nospace, title_nospace)]\n",
    "        ends = [x+len(model_nospace)-1 for x in starts]\n",
    "        # map starts/ends back to indexes in original title\n",
    "        starts_orig = [mapping[i] for i in starts]\n",
    "        ends_orig = [mapping[i] for i in ends]\n",
    "\n",
    "        rt = \"\"\n",
    "        s0 = starts_orig[0]\n",
    "        rt += title[:s0]\n",
    "        for i in range(len(ends_orig)-1):\n",
    "            ei = ends_orig[i]\n",
    "            si1 = starts_orig[i+1]\n",
    "            rt += title[ei+1:si1]\n",
    "        rt += title[ends_orig[-1]+1:]\n",
    "        return rt"
   ]
  },
  {
   "cell_type": "code",
   "execution_count": 28,
   "metadata": {
    "collapsed": false
   },
   "outputs": [
    {
     "name": "stdout",
     "output_type": "stream",
     "text": [
      "sony cyber shot \n",
      "sony cyber shot \n",
      "sony  cyber  shot  hello\n"
     ]
    }
   ],
   "source": [
    "print purge_model_from_title(\"dsc w310\", \"sony cyber shot dsc w310\", \"MODEL-MATCH:EXACT\")\n",
    "print purge_model_from_title(\"sx130 is\", \"sony cyber shot sx130is\", \"MODEL-MATCH:MODEL_NOSPACE\")\n",
    "print purge_model_from_title(\"sx130is\", \"sony sx130 is cyber sx130is shot sx130 is hello\", \"MODEL-MATCH:TITLE_NOSPACE\")"
   ]
  },
  {
   "cell_type": "code",
   "execution_count": 32,
   "metadata": {
    "collapsed": false
   },
   "outputs": [
    {
     "data": {
      "text/plain": [
       "{'!',\n",
       " '\"',\n",
       " '#',\n",
       " '$',\n",
       " '%',\n",
       " '&',\n",
       " \"'\",\n",
       " '(',\n",
       " ')',\n",
       " '*',\n",
       " '+',\n",
       " ',',\n",
       " '-',\n",
       " '.',\n",
       " '/',\n",
       " ':',\n",
       " ';',\n",
       " '<',\n",
       " '=',\n",
       " '>',\n",
       " '?',\n",
       " '@',\n",
       " '[',\n",
       " '\\\\',\n",
       " ']',\n",
       " '^',\n",
       " '_',\n",
       " '`',\n",
       " '{',\n",
       " '|',\n",
       " '}',\n",
       " '~'}"
      ]
     },
     "execution_count": 32,
     "metadata": {},
     "output_type": "execute_result"
    }
   ],
   "source": [
    "import string\n",
    "set(string.punctuation)"
   ]
  }
 ],
 "metadata": {
  "kernelspec": {
   "display_name": "Python 2",
   "language": "python",
   "name": "python2"
  },
  "language_info": {
   "codemirror_mode": {
    "name": "ipython",
    "version": 2
   },
   "file_extension": ".py",
   "mimetype": "text/x-python",
   "name": "python",
   "nbconvert_exporter": "python",
   "pygments_lexer": "ipython2",
   "version": "2.7.11"
  }
 },
 "nbformat": 4,
 "nbformat_minor": 0
}
