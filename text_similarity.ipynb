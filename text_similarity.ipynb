{
 "cells": [
  {
   "cell_type": "code",
   "execution_count": 2,
   "metadata": {
    "collapsed": false
   },
   "outputs": [
    {
     "name": "stdout",
     "output_type": "stream",
     "text": [
      "96\n",
      "61\n",
      "61\n",
      "55\n",
      "91\n",
      "100\n",
      "76\n"
     ]
    }
   ],
   "source": [
    "from fuzzywuzzy import fuzz\n",
    "print(fuzz.ratio(\"NEW YORK METS\", \"NEW YORK MEATS\"))\n",
    "print(fuzz.ratio(\"YANKEES\", \"NEW YORK YANKEES\"))\n",
    "print(fuzz.token_sort_ratio(\"YANKEES\", \"NEW YORK YANKEES\"))\n",
    "print(fuzz.token_sort_ratio(\"NEW YORK METS\", \"NEW YORK YANKEES\"))\n",
    "print(fuzz.token_set_ratio(\"mariners vs angels\", \"los angeles angels of anaheim at seattle mariners\"))\n",
    "print(fuzz.token_set_ratio(\"YANKEES\", \"NEW YORK YANKEES\"))\n",
    "print(fuzz.token_set_ratio(\"NEW YORK METS\", \"NEW YORK YANKEES\"))"
   ]
  },
  {
   "cell_type": "code",
   "execution_count": null,
   "metadata": {
    "collapsed": true
   },
   "outputs": [],
   "source": []
  }
 ],
 "metadata": {
  "kernelspec": {
   "display_name": "Python 2",
   "language": "python",
   "name": "python2"
  },
  "language_info": {
   "codemirror_mode": {
    "name": "ipython",
    "version": 2
   },
   "file_extension": ".py",
   "mimetype": "text/x-python",
   "name": "python",
   "nbconvert_exporter": "python",
   "pygments_lexer": "ipython2",
   "version": "2.7.11"
  }
 },
 "nbformat": 4,
 "nbformat_minor": 0
}
