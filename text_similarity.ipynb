{
 "cells": [
  {
   "cell_type": "code",
   "execution_count": 1,
   "metadata": {
    "collapsed": false
   },
   "outputs": [
    {
     "name": "stdout",
     "output_type": "stream",
     "text": [
      "96\n",
      "61\n",
      "61\n",
      "55\n",
      "91\n",
      "100\n",
      "76\n"
     ]
    },
    {
     "name": "stderr",
     "output_type": "stream",
     "text": [
      "/home/jay/anaconda3/envs/python2/lib/python2.7/site-packages/fuzzywuzzy/fuzz.py:33: UserWarning: Using slow pure-python SequenceMatcher. Install python-Levenshtein to remove this warning\n",
      "  warnings.warn('Using slow pure-python SequenceMatcher. Install python-Levenshtein to remove this warning')\n"
     ]
    }
   ],
   "source": [
    "from fuzzywuzzy import fuzz\n",
    "print(fuzz.ratio(\"NEW YORK METS\", \"NEW YORK MEATS\"))\n",
    "print(fuzz.ratio(\"YANKEES\", \"NEW YORK YANKEES\"))\n",
    "print(fuzz.token_sort_ratio(\"YANKEES\", \"NEW YORK YANKEES\"))\n",
    "print(fuzz.token_sort_ratio(\"NEW YORK METS\", \"NEW YORK YANKEES\"))\n",
    "print(fuzz.token_set_ratio(\"mariners vs angels\", \"los angeles angels of anaheim at seattle mariners\"))\n",
    "print(fuzz.token_set_ratio(\"YANKEES\", \"NEW YORK YANKEES\"))\n",
    "print(fuzz.token_set_ratio(\"NEW YORK METS\", \"NEW YORK YANKEES\"))"
   ]
  },
  {
   "cell_type": "code",
   "execution_count": 5,
   "metadata": {
    "collapsed": false
   },
   "outputs": [
    {
     "name": "stdout",
     "output_type": "stream",
     "text": [
      "61\n",
      "96\n"
     ]
    }
   ],
   "source": [
    "### similarity if we remove '-'\n",
    "print(fuzz.token_sort_ratio(\"canon 5inch\", \"canon 5 inch\"))\n",
    "print(fuzz.token_set_ratio(\"canon 5inch\", \"canon 5 inch\"))"
   ]
  },
  {
   "cell_type": "code",
   "execution_count": 13,
   "metadata": {
    "collapsed": false
   },
   "outputs": [
    {
     "name": "stdout",
     "output_type": "stream",
     "text": [
      "100\n",
      "100\n",
      "78\n",
      "78\n",
      "85\n",
      "85\n",
      "88\n",
      "88\n",
      "100\n",
      "100\n",
      "97\n",
      "97\n"
     ]
    }
   ],
   "source": [
    "# similariy if leaven '-' untouched\n",
    "print(fuzz.token_sort_ratio(\"canon 5-inch\", \"canon 5 inch\"))\n",
    "print(fuzz.token_set_ratio(\"canon 5-inch\", \"canon 5 inch\"))\n",
    "print(fuzz.token_sort_ratio(\"canon li-ion\", \"canon liion\"))\n",
    "print(fuzz.token_set_ratio(\"canon li-ion\", \"canon liion\"))\n",
    "print(fuzz.token_sort_ratio(\"canon li-ion au89\", \"canon liion au89\"))\n",
    "print(fuzz.token_set_ratio(\"canon li-ion au89\", \"canon liion au89\"))\n",
    "print(fuzz.token_sort_ratio(\"Nikon EN-EL9a 1080mAh\", \"Nikon ENEL9a 1080mAh\"))\n",
    "print(fuzz.token_set_ratio(\"Nikon EN-EL9a 1080mAh\", \"Nikon ENEL9a 1080mAh\"))\n",
    "print(fuzz.token_sort_ratio(\"Canon NB-7L Lithium-Ion Battery for G10, G11, G12 Cameras\",\\\n",
    "                            \"canon nb 7l lithium ion battery for g10 g11 g12 cameras\"))\n",
    "print(fuzz.token_set_ratio(\"Canon NB-7L Lithium-Ion Battery for G10, G11, G12 Cameras\",\\\n",
    "                            \"canon nb 7l lithium ion battery for g10 g11 g12 cameras\"))   \n",
    "print(fuzz.token_sort_ratio(\"nikon en-el5 1100mah ultra high capacity li-ion battery pack for nikon p100 p90 p80 p6000\",\\\n",
    "                            \"nikon en-el5 1100mah ultra high capacity liion battery pack for nikon p100 p90 p80 p6000\"))\n",
    "print(fuzz.token_set_ratio(\"nikon en-el5 1100mah ultra high capacity li-ion battery pack for nikon p100 p90 p80 p6000\",\\\n",
    "                            \"nikon en-el5 1100mah ultra high capacity liion battery pack for nikon p100 p90 p80 p6000\"))      "
   ]
  },
  {
   "cell_type": "code",
   "execution_count": 14,
   "metadata": {
    "collapsed": false
   },
   "outputs": [
    {
     "name": "stdout",
     "output_type": "stream",
     "text": [
      "78\n",
      "78\n",
      "85\n",
      "85\n",
      "79\n",
      "79\n",
      "88\n",
      "88\n"
     ]
    }
   ],
   "source": [
    "# similarity if replace '-' with ' '\n",
    "print(fuzz.token_sort_ratio(\"canon li ion\", \"canon liion\"))\n",
    "print(fuzz.token_set_ratio(\"canon li ion\", \"canon liion\"))\n",
    "print(fuzz.token_sort_ratio(\"canon li ion au89\", \"canon liion au89\"))\n",
    "print(fuzz.token_set_ratio(\"canon li ion au89\", \"canon liion au89\"))\n",
    "print(fuzz.token_sort_ratio(\"canon lithiumion\", \"canon lithium ion\"))\n",
    "print(fuzz.token_set_ratio(\"canon lithiumion\", \"canon lithium ion\"))\n",
    "print(fuzz.token_sort_ratio(\"Nikon ENEL9a 1080mAh\", \"Nikon EN EL9a 1080mAh\"))\n",
    "print(fuzz.token_set_ratio(\"Nikon ENEL9a 1080mAh\", \"Nikon EN EL9a 1080mAh\"))"
   ]
  },
  {
   "cell_type": "code",
   "execution_count": 15,
   "metadata": {
    "collapsed": false
   },
   "outputs": [
    {
     "name": "stdout",
     "output_type": "stream",
     "text": [
      "100\n",
      "100\n"
     ]
    }
   ],
   "source": [
    "print(fuzz.token_sort_ratio(\"canon li ion\", \"canon li  ion\"))\n",
    "print(fuzz.token_set_ratio(\"canon li ion  \", \"canon li  ion  \"))"
   ]
  },
  {
   "cell_type": "code",
   "execution_count": 4,
   "metadata": {
    "collapsed": false
   },
   "outputs": [
    {
     "name": "stdout",
     "output_type": "stream",
     "text": [
      "73\n",
      "100\n"
     ]
    }
   ],
   "source": [
    "print(fuzz.partial_ratio(\"sony cyber shot\", \"nihao dajia cyber shot sony\"))\n",
    "print(fuzz.token_set_ratio(\"sony cyber shot\", \"nihao dajia cyber shot sony\"))"
   ]
  }
 ],
 "metadata": {
  "kernelspec": {
   "display_name": "Python 2",
   "language": "python",
   "name": "python2"
  },
  "language_info": {
   "codemirror_mode": {
    "name": "ipython",
    "version": 2
   },
   "file_extension": ".py",
   "mimetype": "text/x-python",
   "name": "python",
   "nbconvert_exporter": "python",
   "pygments_lexer": "ipython2",
   "version": "2.7.11"
  }
 },
 "nbformat": 4,
 "nbformat_minor": 0
}
